{
 "cells": [
  {
   "cell_type": "markdown",
   "metadata": {},
   "source": [
    "# MST Vincolato\n",
    "Dato un grafo non orientato e non completo, e dato un nodo r, si determini l’albero di copertura di radice r che minimizza il numero di figli di ogni nodo -1 (dato un albero di copertura, orientato a partire dalla radice, ogni nodo i non foglia ha ki ≥ 1 figli. Si minimizza la somma su tutti i nodi i non foglia di ki-1)"
   ]
  },
  {
   "cell_type": "code",
   "execution_count": 1,
   "metadata": {},
   "outputs": [],
   "source": [
    "import networkx as nx\n",
    "import matplotlib.pyplot as plt"
   ]
  },
  {
   "cell_type": "markdown",
   "metadata": {},
   "source": [
    "* inizializza grafo e strutture\n",
    "    * \n",
    "* crea una soluzione ammissibile (es. con Kruskal)\n",
    "* Migliora e imponi i vincoli con ricerca locale\n",
    "    * aggiungi un arco all'MST\n",
    "    * rimuovi un arco del ciclo che si è venuto a creare\n",
    "    * calcola la nuova funzione obiettivo\n",
    "        * pensa a fattori di penalizzazione per nodi con + figli?\n",
    "    * ripeti :)\n",
    "* "
   ]
  },
  {
   "cell_type": "markdown",
   "metadata": {},
   "source": [
    "### Inizializzazione"
   ]
  },
  {
   "cell_type": "code",
   "execution_count": 2,
   "metadata": {},
   "outputs": [],
   "source": [
    "MAX_NODES = 6\n",
    "INSTANCE_PATH = \"\"\n",
    "\n",
    "# TODO importa grafo da file\n",
    "\n",
    "\n",
    "G = nx.Graph()\n",
    "G.add_nodes_from([\n",
    "    x for x in range(1, MAX_NODES+1)\n",
    "])\n",
    "\n",
    "G.add_edges_from([\n",
    "    (x,y) for x in range(1, MAX_NODES+1)\n",
    "          for y in range(x+1, MAX_NODES+1)\n",
    "])\n",
    "\n",
    "# Rendiamo il grafo non completo\n",
    "G.remove_edges_from([\n",
    "    (1,4), (3,6), (5,3), (4,5)\n",
    "])\n"
   ]
  },
  {
   "cell_type": "code",
   "execution_count": 3,
   "metadata": {},
   "outputs": [],
   "source": [
    "# Alcune funzioni di supporto\n",
    "\n",
    "def draw_graph(graph, MST=nx.empty_graph(), root_node=None):\n",
    "    # adapted from:\n",
    "    # https://stackoverflow.com/questions/60164893/highlighting-certain-nodes-edges-in-networkx-issues-with-using-zip\n",
    "\n",
    "    #nx.draw_shell(graph, with_labels=True, font_weight='bold')\n",
    "    #nx.draw_shell(MST, with_labels=True, font_weight='bold', edge_color='red')\n",
    "    \n",
    "    # Get position using spring layout\n",
    "    #pos = nx.spring_layout(graph, seed=1234)\n",
    "    pos = nx.circular_layout(graph)\n",
    "\n",
    "    # Get MST path\n",
    "    path_edges = list(MST.edges)\n",
    "\n",
    "\n",
    "    # Draw nodes and edges not included in the MST path\n",
    "    #nx.draw_networkx_nodes(graph, pos, nodelist=set(graph.nodes)-set(MST.nodes))\n",
    "    nx.draw_networkx_nodes(graph, pos, nodelist=graph.nodes)\n",
    "    nx.draw_networkx_edges(graph, pos, edgelist=set(graph.edges)-set(path_edges), edge_color='grey', connectionstyle='arc3, rad = 0.3')\n",
    "\n",
    "    # Draw MST path\n",
    "    # highlight the root node\n",
    "    if root_node != None:\n",
    "        nx.draw_networkx_nodes(graph, pos, nodelist=[root_node], node_color='yellow')\n",
    "\n",
    "    nx.draw_networkx_edges(graph,pos,edgelist=path_edges, edge_color='r', connectionstyle='arc3, rad = 0.3')\n",
    "\n",
    "    # Draw labels\n",
    "    nx.draw_networkx_labels(graph,pos)\n",
    "\n"
   ]
  },
  {
   "cell_type": "code",
   "execution_count": 4,
   "metadata": {},
   "outputs": [],
   "source": [
    "# Funzione obiettivo\n",
    "\n",
    "def cost(MST, root_node):\n",
    "    \n",
    "    cost = 0\n",
    "\n",
    "    for node in MST.nodes:\n",
    "        k_children = MST.out_degree(node) # 0 archi uscenti se node è foglia\n",
    "        if k_children > 0:\n",
    "            cost += k_children - 1\n",
    "        \n",
    "    return cost\n"
   ]
  },
  {
   "cell_type": "markdown",
   "metadata": {},
   "source": [
    "## Ricerca Locale\n",
    "1) crea una soluzione ammissibile (es. con Kruskal)\n",
    "2) Migliora e imponi i vincoli con ricerca locale\n",
    "    * aggiungi un arco all'MST\n",
    "    * rimuovi un arco del ciclo che si è venuto a creare\n",
    "    * calcola la nuova funzione obiettivo\n",
    "        * pensa a fattori di penalizzazione per nodi con + figli?\n",
    "    * ripeti :)"
   ]
  },
  {
   "cell_type": "code",
   "execution_count": 5,
   "metadata": {},
   "outputs": [],
   "source": [
    "# PARAMETRI\n",
    "ROOT_NODE=1"
   ]
  },
  {
   "cell_type": "code",
   "execution_count": 6,
   "metadata": {},
   "outputs": [],
   "source": [
    "# Creazione di MST ammissibile a partire dal nodo radice specificato\n",
    "# tramite visita in ampiezza (così ho un punto di partenza volutamente poco buono)\n",
    "def build_rooted_mst(graph, root_node):\n",
    "    visited_nodes = [] # per evitare cicli\n",
    "\n",
    "    MST = nx.DiGraph()\n",
    "\n",
    "    n1 = root_node\n",
    "    #MST.add_node(n1) # non necessario, aggiunti in automatico con gli archi\n",
    "\n",
    "    # assicuriamoci di partire dal nodo radice\n",
    "    for n2 in graph.neighbors(n1):\n",
    "        if n2 not in visited_nodes:\n",
    "            visited_nodes.append(n2)\n",
    "            MST.add_edge(n1,n2)\n",
    "                \n",
    "\n",
    "    # ora facciamo lo stesso per gli altri nodi\n",
    "    nodes = graph.nodes\n",
    "    for n1 in nodes:\n",
    "        for n2 in graph.neighbors(n1):\n",
    "            if n2 not in visited_nodes:\n",
    "                visited_nodes.append(n2)\n",
    "                MST.add_edge(n1,n2)\n",
    "\n",
    "\n",
    "    return MST"
   ]
  },
  {
   "cell_type": "code",
   "execution_count": 7,
   "metadata": {},
   "outputs": [
    {
     "name": "stdout",
     "output_type": "stream",
     "text": [
      "0) MST:  [(1, 2), (1, 3), (1, 5), (1, 6), (2, 1), (2, 4)] costo: -10\n"
     ]
    },
    {
     "data": {
      "image/png": "[encoded data removed]",
      "text/plain": [
       "<Figure size 432x288 with 1 Axes>"
      ]
     },
     "metadata": {},
     "output_type": "display_data"
    }
   ],
   "source": [
    "mst = build_rooted_mst(G, ROOT_NODE)\n",
    "print(\"0) MST: \", mst.edges, \"costo:\", -10)\n",
    "draw_graph(G, mst, ROOT_NODE)"
   ]
  },
  {
   "cell_type": "code",
   "execution_count": 8,
   "metadata": {},
   "outputs": [
    {
     "name": "stdout",
     "output_type": "stream",
     "text": [
      "NON IN MST: [(2, 3), (2, 5), (2, 6), (3, 4), (4, 6), (5, 6)]\n",
      "MST: [(1, 2), (1, 3), (1, 5), (1, 6), (2, 1), (2, 4)]\n"
     ]
    },
    {
     "ename": "TypeError",
     "evalue": "DiGraph.add_edge() missing 1 required positional argument: 'v_of_edge'",
     "output_type": "error",
     "traceback": [
      "\u001b[1;31m---------------------------------------------------------------------------\u001b[0m",
      "\u001b[1;31mTypeError\u001b[0m                                 Traceback (most recent call last)",
      "\u001b[1;32mc:\\Users\\Davide\\Desktop\\ProgettoRO\\progetto.ipynb Cell 12'\u001b[0m in \u001b[0;36m<module>\u001b[1;34m\u001b[0m\n\u001b[0;32m     <a href='vscode-notebook-cell:/c%3A/Users/Davide/Desktop/ProgettoRO/progetto.ipynb#ch0000011?line=19'>20</a>\u001b[0m \u001b[39m# prendo il primo perchè sì\u001b[39;00m\n\u001b[0;32m     <a href='vscode-notebook-cell:/c%3A/Users/Davide/Desktop/ProgettoRO/progetto.ipynb#ch0000011?line=20'>21</a>\u001b[0m new_e \u001b[39m=\u001b[39m \u001b[39mlist\u001b[39m(outer_G\u001b[39m.\u001b[39medges)[\u001b[39m0\u001b[39m]\n\u001b[1;32m---> <a href='vscode-notebook-cell:/c%3A/Users/Davide/Desktop/ProgettoRO/progetto.ipynb#ch0000011?line=21'>22</a>\u001b[0m mst\u001b[39m.\u001b[39;49madd_edge(new_e)\n\u001b[0;32m     <a href='vscode-notebook-cell:/c%3A/Users/Davide/Desktop/ProgettoRO/progetto.ipynb#ch0000011?line=24'>25</a>\u001b[0m loops \u001b[39m=\u001b[39m nx\u001b[39m.\u001b[39mcycle_basis(mst\u001b[39m.\u001b[39mto_undirected())\n\u001b[0;32m     <a href='vscode-notebook-cell:/c%3A/Users/Davide/Desktop/ProgettoRO/progetto.ipynb#ch0000011?line=26'>27</a>\u001b[0m \u001b[39mprint\u001b[39m(loops)\n",
      "\u001b[1;31mTypeError\u001b[0m: DiGraph.add_edge() missing 1 required positional argument: 'v_of_edge'"
     ]
    }
   ],
   "source": [
    "# CICLO DI MIGLIORAMENTO\n",
    "\n",
    "# calcolo il complementare all'MST\n",
    "outer_G = G.copy()\n",
    "outer_G.remove_edges_from(mst.edges)\n",
    "\n",
    "print(\"NON IN MST:\", outer_G.edges)\n",
    "print(\"MST:\", mst.edges)\n",
    "\n",
    "#draw_graph(outer_G, root_node=ROOT_NODE)\n",
    "\n",
    "\n",
    "# aggiungo un arco all'MST\n",
    "# ciò causerà la nascita di un ciclo nel grafo, perchè MST è sottinsieme massimale di archi senza cicli\n",
    "# quindi elimino un arco del ciclo che si è venuto a creare <=> la funzione obiettivo migliora\n",
    "\n",
    "# prima di tutto calcolo il valore attuale di obj()\n",
    "cost_before = cost(mst, ROOT_NODE)\n",
    "\n",
    "# prendo il primo perchè sì\n",
    "new_e = list(outer_G.edges)[0]\n",
    "mst.add_edge(new_e)\n",
    "\n",
    "\n",
    "loops = nx.cycle_basis(mst.to_undirected())\n",
    "\n",
    "print(loops)\n",
    "\n",
    "\n",
    "# 1: eliminazione GREEDY dell'arco in più\n",
    "for loop in loops:\n",
    "    candidates = [(a,loop[b]) for a in loop \n",
    "                       for b in range(loop.index(a)+1, loop.__len__())]\n",
    "\n",
    "    for ce in candidates:\n",
    "        mst.remove_edge(ce)\n",
    "        cost_after = cost(mst, ROOT_NODE)\n",
    "\n",
    "        if cost_after >= cost_before:\n",
    "            # annulla tutto e prova un altro candidato!\n",
    "            mst.add_edge(ce)\n",
    "        else:\n",
    "            # rendi la modifica permanente e passa oltre.\n",
    "            # non esploro gli altri archi candidati perchè con una mossa del genere\n",
    "            # il costo può essere ridotto solo di 1\n",
    "            break\n",
    "    \n",
    "\n",
    "\n"
   ]
  },
  {
   "cell_type": "code",
   "execution_count": 9,
   "metadata": {},
   "outputs": [
    {
     "name": "stdout",
     "output_type": "stream",
     "text": [
      "NetworkX loop detection returned: [[2, 3, 1], [2, 4, 3]]\n",
      "\n",
      "[(2, 3), (2, 1), (3, 1)]\n",
      "[(2, 4), (2, 3), (4, 3)]\n"
     ]
    },
    {
     "data": {
      "image/png": "[encoded data removed]",
      "text/plain": [
       "<Figure size 432x288 with 1 Axes>"
      ]
     },
     "metadata": {},
     "output_type": "display_data"
    }
   ],
   "source": [
    "# TEST LOOP DETECTION\n",
    "mst.add_edges_from([(2,3), (3,4)])\n",
    "draw_graph(G, mst, ROOT_NODE)\n",
    "loops = nx.cycle_basis(mst.to_undirected()) # https://stackoverflow.com/questions/35683302/python-networkx-detecting-loops-circles\n",
    "# es. [[2,1,3],[4,5,6]]\n",
    "\n",
    "print(\"NetworkX loop detection returned:\", loops)\n",
    "[10,20,30].__len__()\n",
    "\n",
    "# Ri-genera archi del ciclo che si è venuto a creare aggiungendo l'arco a MST\n",
    "print()\n",
    "for loop in loops:\n",
    "    print([(a,loop[b]) for a in loop \n",
    "                       for b in range(loop.index(a)+1, loop.__len__())])"
   ]
  },
  {
   "cell_type": "code",
   "execution_count": null,
   "metadata": {},
   "outputs": [],
   "source": []
  }
 ],
 "metadata": {
  "interpreter": {
   "hash": "669f5abd92f1a410df15b0643b9f42360e277a412fc08ae8bc7d7911cf7e8f3d"
  },
  "kernelspec": {
   "display_name": "Python 3.10.2 64-bit",
   "language": "python",
   "name": "python3"
  },
  "language_info": {
   "codemirror_mode": {
    "name": "ipython",
    "version": 3
   },
   "file_extension": ".py",
   "mimetype": "text/x-python",
   "name": "python",
   "nbconvert_exporter": "python",
   "pygments_lexer": "ipython3",
   "version": "3.10.2"
  },
  "orig_nbformat": 4
 },
 "nbformat": 4,
 "nbformat_minor": 2
}
