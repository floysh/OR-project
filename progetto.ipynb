{
 "cells": [
  {
   "cell_type": "markdown",
   "metadata": {},
   "source": [
    "# MST Vincolato\n",
    "Dato un grafo non orientato e non completo, e dato un nodo r, si determini l’albero di copertura di radice r che minimizza il numero di figli di ogni nodo -1 (dato un albero di copertura, orientato a partire dalla radice, ogni nodo i non foglia ha ki ≥ 1 figli. Si minimizza la somma su tutti i nodi i non foglia di ki-1)"
   ]
  },
  {
   "cell_type": "code",
   "execution_count": 25,
   "metadata": {},
   "outputs": [],
   "source": [
    "import networkx as nx\n",
    "import matplotlib.pyplot as plt"
   ]
  },
  {
   "cell_type": "markdown",
   "metadata": {},
   "source": [
    "* inizializza grafo e strutture\n",
    "    * \n",
    "* crea una soluzione ammissibile (es. con Kruskal)\n",
    "* Migliora e imponi i vincoli con ricerca locale\n",
    "    * aggiungi un arco all'MST\n",
    "    * rimuovi un arco del ciclo che si è venuto a creare\n",
    "    * calcola la nuova funzione obiettivo\n",
    "        * pensa a fattori di penalizzazione per nodi con + figli?\n",
    "    * ripeti :)\n",
    "* "
   ]
  },
  {
   "cell_type": "markdown",
   "metadata": {},
   "source": [
    "### Inizializzazione"
   ]
  },
  {
   "cell_type": "code",
   "execution_count": 26,
   "metadata": {},
   "outputs": [],
   "source": [
    "MAX_NODES = 6\n",
    "INSTANCE_PATH = \"\"\n",
    "\n",
    "# importa grafo da file\n",
    "\n",
    "\n",
    "G = nx.Graph()\n",
    "G.add_nodes_from([\n",
    "    x for x in range(1, MAX_NODES+1)\n",
    "])\n",
    "\n",
    "G.add_edges_from([\n",
    "    (x,y) for x in range(1, MAX_NODES+1)\n",
    "          for y in range(x+1, MAX_NODES+1)\n",
    "])\n",
    "\n",
    "# Rendiamo il grafo non completo\n",
    "G.remove_edges_from([\n",
    "    (1,4), (3,6), (5,3), (4,5)\n",
    "])\n"
   ]
  },
  {
   "cell_type": "code",
   "execution_count": 28,
   "metadata": {},
   "outputs": [],
   "source": [
    "# Alcune funzioni di supporto\n",
    "\n",
    "def draw_graph(graph, MST=nx.empty_graph(), root_node=0):\n",
    "    # adapted from:\n",
    "    # https://stackoverflow.com/questions/60164893/highlighting-certain-nodes-edges-in-networkx-issues-with-using-zip\n",
    "\n",
    "    #nx.draw_shell(graph, with_labels=True, font_weight='bold')\n",
    "    #nx.draw_shell(MST, with_labels=True, font_weight='bold', edge_color='red')\n",
    "    \n",
    "    # Get position using spring layout\n",
    "    #pos = nx.spring_layout(graph, seed=1234)\n",
    "    pos = nx.circular_layout(graph)\n",
    "\n",
    "    # Get MST path\n",
    "    path_edges = list(MST.edges)\n",
    "\n",
    "\n",
    "    # Draw nodes and edges not included in the MST path\n",
    "    #nx.draw_networkx_nodes(graph, pos, nodelist=set(graph.nodes)-set(MST.nodes))\n",
    "    nx.draw_networkx_nodes(graph, pos, nodelist=graph.nodes)\n",
    "    nx.draw_networkx_edges(graph, pos, edgelist=set(graph.edges)-set(path_edges), edge_color='grey', connectionstyle='arc3, rad = 0.3')\n",
    "\n",
    "    # Draw MST path\n",
    "    # highlight the root node\n",
    "    if root_node != None:\n",
    "        nx.draw_networkx_nodes(graph, pos, nodelist=[root_node], node_color='yellow')\n",
    "\n",
    "    nx.draw_networkx_edges(graph,pos,edgelist=path_edges, edge_color='r', connectionstyle='arc3, rad = 0.3')\n",
    "\n",
    "    # Draw labels\n",
    "    nx.draw_networkx_labels(graph,pos)\n",
    "\n"
   ]
  },
  {
   "cell_type": "code",
   "execution_count": 33,
   "metadata": {},
   "outputs": [],
   "source": [
    "# Funzione obiettivo\n",
    "\n",
    "def cost(MST, root_node):\n",
    "    \n",
    "    cost = 0\n",
    "\n",
    "    for node in MST.nodes:\n",
    "        k_children = MST.out_degree(node) # 0 archi uscenti se node è foglia\n",
    "        if k_children > 0:\n",
    "            cost += k_children - 1\n",
    "        \n",
    "    return cost\n",
    "\n",
    "\n"
   ]
  },
  {
   "cell_type": "markdown",
   "metadata": {},
   "source": [
    "## Ricerca Locale\n",
    "1) crea una soluzione ammissibile (es. con Kruskal)\n",
    "2) Migliora e imponi i vincoli con ricerca locale\n",
    "    * aggiungi un arco all'MST\n",
    "    * rimuovi un arco del ciclo che si è venuto a creare\n",
    "    * calcola la nuova funzione obiettivo\n",
    "        * pensa a fattori di penalizzazione per nodi con + figli?\n",
    "    * ripeti :)"
   ]
  },
  {
   "cell_type": "code",
   "execution_count": 29,
   "metadata": {},
   "outputs": [],
   "source": [
    "# Creazione di MST ammissibile a partire da nodo radice scelto\n",
    "# tramite visita in profondità\n",
    "def build_rooted_mst(graph, root_node):\n",
    "    visited_nodes = [] # per evitare cicli\n",
    "\n",
    "    MST = nx.DiGraph()\n",
    "\n",
    "    n1 = root_node\n",
    "    #MST.add_node(n1) # non necessario, aggiunti in automatico con gli archi\n",
    "\n",
    "    # assicuriamoci di partire dal nodo radice\n",
    "    for n2 in graph.neighbors(n1):\n",
    "        if n2 not in visited_nodes:\n",
    "            visited_nodes.append(n2)\n",
    "            MST.add_edge(n1,n2)\n",
    "                \n",
    "\n",
    "    # ora facciamo lo stesso per gli altri nodi\n",
    "    nodes = graph.nodes\n",
    "    for n1 in nodes:\n",
    "        for n2 in graph.neighbors(n1):\n",
    "            if n2 not in visited_nodes:\n",
    "                visited_nodes.append(n2)\n",
    "                MST.add_edge(n1,n2)\n",
    "\n",
    "\n",
    "    return MST"
   ]
  },
  {
   "cell_type": "code",
   "execution_count": 30,
   "metadata": {},
   "outputs": [
    {
     "name": "stdout",
     "output_type": "stream",
     "text": [
      "k-1) MST:  [(1, 2), (1, 3), (1, 5), (1, 6), (2, 1), (2, 4)] costo: -10\n"
     ]
    },
    {
     "data": {
      "image/png": "[encoded data removed]",
      "text/plain": [
       "<Figure size 432x288 with 1 Axes>"
      ]
     },
     "metadata": {},
     "output_type": "display_data"
    }
   ],
   "source": [
    "ROOT=1\n",
    "\n",
    "mst = build_rooted_mst(G, ROOT)\n",
    "print(\"k-1) MST: \", mst.edges, \"costo:\", -10)\n",
    "draw_graph(G, mst, ROOT)"
   ]
  },
  {
   "cell_type": "code",
   "execution_count": 36,
   "metadata": {},
   "outputs": [
    {
     "data": {
      "text/plain": [
       "4"
      ]
     },
     "execution_count": 36,
     "metadata": {},
     "output_type": "execute_result"
    }
   ],
   "source": [
    "cost(mst, ROOT)"
   ]
  }
 ],
 "metadata": {
  "interpreter": {
   "hash": "669f5abd92f1a410df15b0643b9f42360e277a412fc08ae8bc7d7911cf7e8f3d"
  },
  "kernelspec": {
   "display_name": "Python 3.10.2 64-bit",
   "language": "python",
   "name": "python3"
  },
  "language_info": {
   "codemirror_mode": {
    "name": "ipython",
    "version": 3
   },
   "file_extension": ".py",
   "mimetype": "text/x-python",
   "name": "python",
   "nbconvert_exporter": "python",
   "pygments_lexer": "ipython3",
   "version": "3.10.2"
  },
  "orig_nbformat": 4
 },
 "nbformat": 4,
 "nbformat_minor": 2
}
