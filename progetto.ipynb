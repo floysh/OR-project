{
 "cells": [
  {
   "cell_type": "markdown",
   "metadata": {},
   "source": [
    "# MST Vincolato\n",
    "Dato un grafo non orientato e non completo, e dato un nodo r, si determini l’albero di copertura di radice r che minimizza il numero di figli di ogni nodo -1 (dato un albero di copertura, orientato a partire dalla radice, ogni nodo i non foglia ha ki ≥ 1 figli. Si minimizza la somma su tutti i nodi i non foglia di ki-1)"
   ]
  },
  {
   "cell_type": "code",
   "execution_count": 705,
   "metadata": {},
   "outputs": [],
   "source": [
    "import os\n",
    "import networkx as nx\n",
    "import matplotlib.pyplot as plt"
   ]
  },
  {
   "cell_type": "markdown",
   "metadata": {},
   "source": [
    "* inizializza grafo e strutture\n",
    "    * \n",
    "* crea una soluzione ammissibile (es. con Kruskal)\n",
    "* Migliora e imponi i vincoli con ricerca locale\n",
    "    * aggiungi un arco all'MST\n",
    "    * rimuovi un arco del ciclo che si è venuto a creare\n",
    "    * calcola la nuova funzione obiettivo\n",
    "        * pensa a fattori di penalizzazione per nodi con + figli?\n",
    "    * ripeti :)\n",
    "* "
   ]
  },
  {
   "cell_type": "code",
   "execution_count": 706,
   "metadata": {},
   "outputs": [],
   "source": [
    "# PARAMETRI GENERALI\n",
    "OUT_DIR = \"out\" # dove salvare i disegni dei grafi (x debug)\n",
    "\n",
    "MAX_NODES = 26\n",
    "GRAPH_GENERATOR = \"NX_COMPLETE\" # [NX_ATLAS | NX_COMPLETE | CUSTOM ]"
   ]
  },
  {
   "cell_type": "markdown",
   "metadata": {},
   "source": [
    "### Inizializzazione"
   ]
  },
  {
   "cell_type": "code",
   "execution_count": 707,
   "metadata": {},
   "outputs": [
    {
     "name": "stdout",
     "output_type": "stream",
     "text": [
      "[WARN] Generatore non valido, uso grafo di test (nx.atlas, id=1234)\n"
     ]
    }
   ],
   "source": [
    "# CREAZIONE GRAFO e strutture\n",
    "\n",
    "# TODO importa grafo da file\n",
    "\n",
    "\n",
    "# Grafo di test\n",
    "if not \"GRAPH_GENERATOR\" in globals() or GRAPH_GENERATOR == \"CUSTOM\":\n",
    "    G = nx.Graph()\n",
    "    G.add_nodes_from([\n",
    "        x for x in range(1, MAX_NODES+1)\n",
    "    ])\n",
    "\n",
    "    G.add_edges_from([\n",
    "        (x,y) for x in range(1, MAX_NODES+1)\n",
    "            for y in range(x+1, MAX_NODES+1)\n",
    "    ])\n",
    "\n",
    "    # Rendiamo il grafo non completo\n",
    "    G.remove_edges_from([ (1,4), (3,6), (5,3), (4,5)])\n",
    "    G.remove_edges_from([ \n",
    "        (a,b) for a in range(MAX_NODES, int(MAX_NODES/2))\n",
    "              for b in range(1,MAX_NODES-1) if (b+a) %2 != 0\n",
    "     ])\n",
    "else :\n",
    "    match GRAPH_GENERATOR:\n",
    "        case \"NX_ATLAS\": \n",
    "            # generatore \"atlas\" di networkx\n",
    "            # non sono grafi molto densi, e sono piccoli\n",
    "            # 666\n",
    "            # 420\n",
    "            # 969\n",
    "            # 1196\n",
    "            G = nx.graph_atlas(969)\n",
    "        case \"NX_COMPLETE_GRAPH\":\n",
    "            G = nx.complete_graph(range(1,MAX_NODES+1))\n",
    "        case _:\n",
    "            # robetta semplice\n",
    "            print(\"[WARN] Generatore non valido, uso grafo di test (nx.atlas, id=1234)\")\n",
    "            G = nx.graph_atlas(1234)\n",
    "\n",
    "# Prepara directory in cui salvare i rendering\n",
    "OUT_DIR = os.path.join(os.getcwd(),OUT_DIR)\n",
    "if not os.path.exists(OUT_DIR):\n",
    "    os.makedirs(OUT_DIR)"
   ]
  },
  {
   "cell_type": "code",
   "execution_count": 708,
   "metadata": {},
   "outputs": [],
   "source": [
    "# Alcune funzioni di supporto\n",
    "\n",
    "def draw_graph(graph, MST=nx.empty_graph(), root_node=None):\n",
    "    # adapted from:\n",
    "    # https://stackoverflow.com/questions/60164893/highlighting-certain-nodes-edges-in-networkx-issues-with-using-zip\n",
    "\n",
    "    nodes_shared_options = {\"node_size\": 600, \"edgecolors\": \"black\", \"linewidths\": 1.2}\n",
    "    edges_shared_options = {\"connectionstyle\": 'arc3', \"width\": 1.25} \n",
    "    \n",
    "    # Get position using spring layout\n",
    "    #pos = nx.spring_layout(graph, seed=1234)\n",
    "    pos = nx.circular_layout(graph)\n",
    "\n",
    "    # Get MST path\n",
    "    path_edges = list(MST.edges)\n",
    "\n",
    "    # Draw nodes and edges not included in the MST path\n",
    "    #nx.draw_networkx_nodes(graph, pos, nodelist=set(graph.nodes)-set(MST.nodes))\n",
    "    nx.draw_networkx_nodes(graph, pos, nodelist=graph.nodes, node_color=\"whitesmoke\", **nodes_shared_options)\n",
    "    nx.draw_networkx_edges(graph, pos, edgelist=set(graph.edges)-set(path_edges), edge_color='gray', **edges_shared_options )\n",
    "\n",
    "    # Draw MST path\n",
    "    # highlight the root node\n",
    "    if root_node != None:\n",
    "        nx.draw_networkx_nodes(graph, pos, nodelist=[root_node], node_color='tab:red', **nodes_shared_options)\n",
    "\n",
    "    nx.draw_networkx_edges(graph, pos, edgelist=path_edges, edge_color='r', **edges_shared_options)\n",
    "\n",
    "    # Draw labels\n",
    "    nx.draw_networkx_labels(graph, pos, font_color='black', font_weight='bold')\n",
    "    nx.draw_networkx_labels(graph, pos, labels={root_node: root_node}, font_color='whitesmoke', font_weight='bold')\n",
    "\n",
    "\n",
    "\n",
    "def save_figure(name, format=\"svg\"):\n",
    "    filename = \"{}.{}\".format(name,format)\n",
    "    plt.tight_layout(pad=1)\n",
    "    plt.savefig(os.path.join(OUT_DIR,filename), bbox_inches='tight', format=format, dpi=800, transparent=True)\n",
    "\n"
   ]
  },
  {
   "cell_type": "code",
   "execution_count": 709,
   "metadata": {},
   "outputs": [],
   "source": [
    "# Funzione obiettivo\n",
    "\n",
    "def cost(MST, root_node, debug=False):\n",
    "\n",
    "    support_graph = nx.Graph()\n",
    "\n",
    "    visited = set()\n",
    "    next = [root_node]\n",
    "    \n",
    "    cost = 0\n",
    "\n",
    "    while len(next) > 0:\n",
    "        node = next.pop(0)\n",
    "        node_edges = MST.edges(node)\n",
    "        \n",
    "        if node not in visited:\n",
    "            k_children = len( [ x for x in node_edges if x not in support_graph.edges ] )\n",
    "\n",
    "            if debug:\n",
    "                print(\"node {} has {} children\".format(node, k_children))\n",
    "\n",
    "            if k_children > 1:\n",
    "                cost += k_children - 1\n",
    "\n",
    "            visited.add(node)\n",
    "            next = next + list(MST.adj[node])\n",
    "            support_graph.add_edges_from(node_edges)\n",
    "        \n",
    "    return cost\n"
   ]
  },
  {
   "cell_type": "code",
   "execution_count": 710,
   "metadata": {},
   "outputs": [
    {
     "name": "stdout",
     "output_type": "stream",
     "text": [
      "node 1 has 2 children\n",
      "node 2 has 3 children\n",
      "node 6 has 0 children\n",
      "node 3 has 0 children\n",
      "node 5 has 0 children\n",
      "node 4 has 0 children\n",
      "cost:  3\n"
     ]
    },
    {
     "data": {
      "image/png": "[encoded data removed]",
      "text/plain": [
       "<Figure size 432x288 with 1 Axes>"
      ]
     },
     "metadata": {},
     "output_type": "display_data"
    }
   ],
   "source": [
    "# TEST children nodes\n",
    "TEST = nx.Graph()\n",
    "TEST.add_edges_from([(1, 2), (2, 3), (2, 5), (1, 6), (2, 4)])\n",
    "\n",
    "TEST_ROOT = 1\n",
    "\n",
    "draw_graph(TEST, root_node=TEST_ROOT)\n",
    "\n",
    "print(\"cost: \",cost(TEST, 1,debug=True))"
   ]
  },
  {
   "cell_type": "markdown",
   "metadata": {},
   "source": [
    "## Ricerca Locale\n",
    "1) crea una soluzione ammissibile (es. con Kruskal)\n",
    "2) Migliora e imponi i vincoli con ricerca locale\n",
    "    * aggiungi un arco all'MST\n",
    "    * rimuovi un arco del ciclo che si è venuto a creare\n",
    "    * calcola la nuova funzione obiettivo\n",
    "        * pensa a fattori di penalizzazione per nodi con + figli?\n",
    "    * ripeti :)"
   ]
  },
  {
   "cell_type": "code",
   "execution_count": 711,
   "metadata": {},
   "outputs": [],
   "source": [
    "# PARAMETRI RICERCA\n",
    "ROOT_NODE = 5\n",
    "\n",
    "MAX_ITER = 1600\n",
    "DEBUG_IMPROVEMENT = False\n",
    "SAVE_STEP_GRAPHS = False"
   ]
  },
  {
   "cell_type": "code",
   "execution_count": 712,
   "metadata": {},
   "outputs": [
    {
     "name": "stdout",
     "output_type": "stream",
     "text": [
      "next_visit =  [0, 1, 2, 3, 4]\n",
      "next_visit =  [0, 1, 2, 3, 4, 0, 1, 3, 4, 5, 6]\n",
      "node = 0\n",
      "next_visit =  ['ciao', 1, 2, 3, 4, 0, 1, 3, 4, 5, 6]\n"
     ]
    },
    {
     "data": {
      "text/plain": [
       "[0, 2, 4, 6, 8, 10]"
      ]
     },
     "execution_count": 712,
     "metadata": {},
     "output_type": "execute_result"
    }
   ],
   "source": [
    "next_visit = list(G.adj[ROOT_NODE])\n",
    "\n",
    "print(\"next_visit = \",next_visit)\n",
    "\n",
    "for n in list(G.adj[2]):\n",
    "    next_visit.append(n)\n",
    "\n",
    "print(\"next_visit = \",next_visit)\n",
    "\n",
    "node = next_visit.pop(0) # pop()  = estrazione LIFO (STACK), \n",
    "                         # pop(0) = estrazione FIFO (CODA)\n",
    "print(\"node =\",node)\n",
    "next_visit.insert(0, \"ciao\")\n",
    "print(\"next_visit = \",next_visit)\n",
    "\n",
    "\n",
    "\n",
    "[x for x in range(0,12) if x%2 == 0]\n"
   ]
  },
  {
   "cell_type": "markdown",
   "metadata": {},
   "source": [
    "### 1. Creazione soluzione ammissibile\n",
    "\n",
    "Parto da un MST subottimale ottenuto con la visita in ampiezza a partire dalla radice. Uso la visita in ampiezza perchè\n",
    "* è relativamente semplice costruire uno spanning tree così\n",
    "* se la radice è abbastanza connessa ottengo una soluzione che sicuramente può essere migliorata\n",
    "\n",
    "> TODO: usare Kruskal/Prim e poi invertire gli archi entranti nel nodo radice per \"raddrizzare\" l'albero?"
   ]
  },
  {
   "cell_type": "code",
   "execution_count": 713,
   "metadata": {},
   "outputs": [],
   "source": [
    "# Creazione di MST ammissibile a partire dal nodo radice specificato\n",
    "# tramite visita in ampiezza (così ho un punto di partenza volutamente poco buono)\n",
    "def build_rooted_mst(graph, root_node):\n",
    "    visited_nodes = set() # per evitare cicli\n",
    "    next_visit = []\n",
    "\n",
    "    MST = nx.Graph()\n",
    "\n",
    "    #MST.add_node(n1) # non necessario, aggiunti in automatico con gli archi\n",
    "\n",
    "    #next_visit = list(G.adj[root_node]) # inserisci i vicini del nodo di partenza\n",
    "\n",
    "    next_visit.insert(0,root_node) # assicurati di partire dal nodo radice!\n",
    "    #for n in next_visit:\n",
    "    while len(next_visit) > 0:\n",
    "        n = next_visit.pop(0)\n",
    "        # processa un nodo solo se non è già stato visitato\n",
    "        if n not in visited_nodes:\n",
    "            visited_nodes.add(n)\n",
    "            # aggiungi i suoi vicini non visitati alla lista/stack di visita\n",
    "            unvisited_neighbourhood = [x for x in list(G.adj[n]) if x not in visited_nodes]\n",
    "            #print(\"n = \",n)\n",
    "            #print(\"unvisited_neighbourhood = \",unvisited_neighbourhood)\n",
    "            #print(\"(before loop) next_visit = \",next_visit)\n",
    "            # inserimento in testa -> depth first?\n",
    "            next_visit = unvisited_neighbourhood + next_visit\n",
    "            for neighbour in unvisited_neighbourhood:\n",
    "                if neighbour not in MST.nodes:\n",
    "                    #print(\"MST edge added: \", (n,neighbour))\n",
    "                    MST.add_edge(n,neighbour)\n",
    "            #print(\"(after loop) next_visit = \",next_visit) \n",
    "        #else:\n",
    "            #print(\"n = \", n, \"(ignored)\")\n",
    "\n",
    "    return MST"
   ]
  },
  {
   "cell_type": "code",
   "execution_count": 714,
   "metadata": {},
   "outputs": [],
   "source": [
    "mst = build_rooted_mst(G, ROOT_NODE)"
   ]
  },
  {
   "cell_type": "code",
   "execution_count": 715,
   "metadata": {},
   "outputs": [
    {
     "name": "stdout",
     "output_type": "stream",
     "text": [
      "Costo iniziale: 4\n",
      "MST =  [(5, 0), (5, 1), (5, 2), (5, 3), (5, 4), (1, 6)]\n"
     ]
    },
    {
     "data": {
      "image/png": "[encoded data removed]",
      "text/plain": [
       "<Figure size 432x288 with 1 Axes>"
      ]
     },
     "metadata": {},
     "output_type": "display_data"
    }
   ],
   "source": [
    "# PRINT INFO\n",
    "print(\"Costo iniziale:\", cost(mst, ROOT_NODE))\n",
    "print(\"MST = \", mst.edges)\n",
    "draw_graph(G, mst, ROOT_NODE)\n",
    "save_figure(name=\"initial\")"
   ]
  },
  {
   "cell_type": "markdown",
   "metadata": {},
   "source": [
    "### 2. Improvement"
   ]
  },
  {
   "cell_type": "markdown",
   "metadata": {},
   "source": [
    "Miglioro per scambio di archi, con una strategia quasi greedy.\n",
    "\n",
    "> Possibili miglioramenti?\n",
    "\n",
    "* TODO parametrizzare e isolare in una funzione\n",
    "\n",
    "* ~~TODO provare con grafi grossi~~ soluzioni parecchio subottimali (con 16 nodi, c=10 quando ottimo è c=0)\n",
    "    * **[migliorato]** consentendo swap con archi eliminati (c=6)\n",
    "\n",
    "* TODO preferire aggiunta di archi incidenti in nodi foglia?"
   ]
  },
  {
   "cell_type": "code",
   "execution_count": 716,
   "metadata": {},
   "outputs": [],
   "source": [
    "# CICLO DI MIGLIORAMENTO\n",
    "\n",
    "# calcolo il complementare all'MST\n",
    "outer_G = G.copy()\n",
    "outer_G.remove_edges_from(mst.edges)\n",
    "\n",
    "candidates = list(outer_G.edges)\n",
    "k = 0\n",
    "\n",
    "if DEBUG_IMPROVEMENT:\n",
    "    print(\"NON IN MST:\", outer_G.edges)\n",
    "    print(\"MST:\", mst.edges)\n",
    "\n",
    "    plt.figure(0)\n",
    "    plt.title(\"Initial\")\n",
    "    draw_graph(G, mst, root_node=ROOT_NODE)\n",
    "    if \"SAVE_STEPS_GRAPH\" in globals() and SAVE_STEPS_GRAPH:\n",
    "        plt.savefig( os.path.join(OUT_DIR, \"debug_Steps\",'iter_{}'.format(k)) )\n",
    "\n",
    "#draw_graph(outer_G, root_node=ROOT_NODE)\n",
    "\n",
    "# aggiungo un arco all'MST\n",
    "# ciò causerà la nascita di un ciclo nel grafo, perchè MST è sottinsieme massimale di archi senza cicli\n",
    "# quindi elimino un arco del ciclo che si è venuto a creare <=> la funzione obiettivo migliora\n",
    "\n",
    "#for new_e in candidates:\n",
    "iter = 0\n",
    "while len(candidates) > 0 and iter < MAX_ITER:\n",
    "    iter += 1\n",
    "    new_e = candidates.pop(0)\n",
    "    cost_before = cost(mst, ROOT_NODE)\n",
    "\n",
    "    # Se sono così fortunato da aver trovato la soluzione ottima,\n",
    "    # ferma tutto (non si può mai migliorare più di così)\n",
    "    if cost_before == 0:\n",
    "        break\n",
    "    if DEBUG_IMPROVEMENT:\n",
    "        print(\"\")\n",
    "        print(k,\") initial cost: \",cost_before)\n",
    "        print(\"MST=\", list(mst.edges))\n",
    "        print(\"add: \",new_e)\n",
    "\n",
    "    mst.add_edges_from([new_e])\n",
    "\n",
    "    # loop detection\n",
    "    loop_edges = nx.algorithms.cycles.find_cycle(mst)\n",
    "\n",
    "\n",
    "    cost_improved = False\n",
    "    # 1: eliminazione GREEDY dell'arco in più\n",
    "    # scelgo la mossa che localmente mi da l'abbassamento minore di obj()\n",
    "    for ce in loop_edges:\n",
    "        #print(k,\"MST=\",mst.edges); \n",
    "        k+=1;\n",
    "        cost_before = cost(mst, ROOT_NODE)\n",
    "        mst.remove_edges_from([ce])\n",
    "        \n",
    "        if DEBUG_IMPROVEMENT:\n",
    "            fig = plt.figure(k)\n",
    "            plt.title(\"add: {}, remove: {}\".format(new_e, ce))\n",
    "            draw_graph(G, mst, root_node=ROOT_NODE )\n",
    "            if \"SAVE_STEP_GRAPHS\" in globals() and SAVE_STEP_GRAPHS:\n",
    "                plt.savefig(os.path.join(OUT_DIR,\"debug_Steps\",'iter_{}'.format(k)))\n",
    "            print(\"remove: \", ce)\n",
    "            \n",
    "        cost_after = cost(mst, ROOT_NODE)\n",
    "\n",
    "        if cost_after > cost_before:\n",
    "            # annulla e prova a rimuovere un altro arco\n",
    "            mst.add_edges_from([ce])\n",
    "            if DEBUG_IMPROVEMENT:\n",
    "                print(\"new cost: \",cost_after, \"(revert)\")\n",
    "        else:\n",
    "            # rendi la modifica permanente e passa oltre.\n",
    "            # non esploro gli altri archi candidati per lo scambio \n",
    "            # perchè con una mossa del genere\n",
    "            # il costo può essere ridotto solo di 1\n",
    "            if DEBUG_IMPROVEMENT:\n",
    "                print(\"new cost: \",cost_after, \"(keep)\")\n",
    "            cost_improved = True\n",
    "\n",
    "            # Se e solo se l'arco rimosso forniva una soluzione equivalente,\n",
    "            # lo (ri)metto nell'insieme dei candidati\n",
    "            # nel caso mi serva per migliorare più avanti\n",
    "            # (lo metto in fondo alla lista per \n",
    "            #  dare priorità alle sostituzioni non ancora tentate)\n",
    "            if cost_after == cost_before:\n",
    "                candidates.append(ce)\n",
    "\n",
    "\n",
    "            break\n",
    "\n",
    "        # se non ci sono stati miglioramenti, \n",
    "        # rimuovi l'arco aggiunto e provane un altro\n",
    "        if not cost_improved:\n",
    "            if DEBUG_IMPROVEMENT:\n",
    "                print(\"No improvements, removing: \",new_e)\n",
    "            mst.remove_edges_from([new_e])\n",
    "            candidates.append(new_e)\n"
   ]
  },
  {
   "cell_type": "markdown",
   "metadata": {},
   "source": [
    "### 3. Risultati\n"
   ]
  },
  {
   "cell_type": "code",
   "execution_count": 717,
   "metadata": {},
   "outputs": [
    {
     "name": "stdout",
     "output_type": "stream",
     "text": [
      "Costo finale:  0\n",
      "MST =  [(5, 4), (0, 3), (1, 6), (1, 3), (2, 4), (2, 6)]\n",
      "\n",
      "---STATISTICHE---\n",
      "Iterazioni eseguite: 11/1600\n",
      "Gradi nodi non ottimali (N.B include il nodo parent):  []\n",
      "|V| =  7\n",
      "|E| =  17\n",
      "\n",
      "---TEST AMMISSIBILITA'---\n",
      "mst is tree:  True\n",
      "mst loops:  None\n"
     ]
    },
    {
     "data": {
      "image/png": "[encoded data removed]",
      "text/plain": [
       "<Figure size 432x288 with 1 Axes>"
      ]
     },
     "metadata": {},
     "output_type": "display_data"
    }
   ],
   "source": [
    "# PRINT RESULTS\n",
    "print(\"Costo finale: \", cost(mst, ROOT_NODE))\n",
    "print(\"MST = \",mst.edges)\n",
    "draw_graph(G, mst, ROOT_NODE)\n",
    "save_figure(name=\"final\")\n",
    "\n",
    "print(\"\")\n",
    "print(\"---STATISTICHE---\")\n",
    "print(\"Iterazioni eseguite: {}/{}\".format(iter,MAX_ITER))\n",
    "print(\"Gradi nodi non ottimali (N.B include il nodo parent): \",[(n,x-1) for (n,x) in mst.degree() if x > 2])\n",
    "print(\"|V| = \", G.number_of_nodes())\n",
    "print(\"|E| = \", G.number_of_edges())\n",
    "\n",
    "\n",
    "\n",
    "print(\"\")\n",
    "print(\"---TEST AMMISSIBILITA'---\")\n",
    "\n",
    "print(\"mst is tree: \",nx.is_tree(mst))\n",
    "\n",
    "try:\n",
    "    cycletest = nx.algorithms.cycles.find_cycle(mst, orientation=\"ignore\")\n",
    "except:\n",
    "    cycletest = None\n",
    "finally:\n",
    "    print(\"mst loops: \", cycletest)"
   ]
  }
 ],
 "metadata": {
  "interpreter": {
   "hash": "669f5abd92f1a410df15b0643b9f42360e277a412fc08ae8bc7d7911cf7e8f3d"
  },
  "kernelspec": {
   "display_name": "Python 3.10.2 64-bit",
   "language": "python",
   "name": "python3"
  },
  "language_info": {
   "codemirror_mode": {
    "name": "ipython",
    "version": 3
   },
   "file_extension": ".py",
   "mimetype": "text/x-python",
   "name": "python",
   "nbconvert_exporter": "python",
   "pygments_lexer": "ipython3",
   "version": "3.10.2"
  },
  "orig_nbformat": 4
 },
 "nbformat": 4,
 "nbformat_minor": 2
}
