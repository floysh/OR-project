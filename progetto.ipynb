{
 "cells": [
  {
   "cell_type": "markdown",
   "metadata": {},
   "source": [
    "# MST Vincolato\n",
    "Dato un grafo non orientato e non completo, e dato un nodo r, si determini l’albero di copertura di radice r che minimizza il numero di figli di ogni nodo -1 (dato un albero di copertura, orientato a partire dalla radice, ogni nodo i non foglia ha ki ≥ 1 figli. Si minimizza la somma su tutti i nodi i non foglia di ki-1)"
   ]
  },
  {
   "cell_type": "code",
   "execution_count": 1,
   "metadata": {},
   "outputs": [],
   "source": [
    "import os\n",
    "import networkx as nx\n",
    "import matplotlib.pyplot as plt"
   ]
  },
  {
   "cell_type": "markdown",
   "metadata": {},
   "source": [
    "* inizializza grafo e strutture\n",
    "    * \n",
    "* crea una soluzione ammissibile (es. con Kruskal)\n",
    "* Migliora e imponi i vincoli con ricerca locale\n",
    "    * aggiungi un arco all'MST\n",
    "    * rimuovi un arco del ciclo che si è venuto a creare\n",
    "    * calcola la nuova funzione obiettivo\n",
    "        * pensa a fattori di penalizzazione per nodi con + figli?\n",
    "    * ripeti :)\n",
    "* "
   ]
  },
  {
   "cell_type": "markdown",
   "metadata": {},
   "source": [
    "### Inizializzazione"
   ]
  },
  {
   "cell_type": "code",
   "execution_count": 2,
   "metadata": {},
   "outputs": [],
   "source": [
    "# PARAMETRI\n",
    "DEBUG_IMPROVEMENT = False\n",
    "OUT_DIR = os.path.join(os.getcwd(),\"out\") # dove salvare i disegni dei grafi (x debug)\n",
    "\n",
    "if not os.path.exists(OUT_DIR):\n",
    "    os.makedirs(OUT_DIR)"
   ]
  },
  {
   "cell_type": "code",
   "execution_count": 3,
   "metadata": {},
   "outputs": [],
   "source": [
    "MAX_NODES = 6\n",
    "\n",
    "# TODO importa grafo da file\n",
    "\n",
    "# Grafo di test\n",
    "G = nx.Graph()\n",
    "G.add_nodes_from([\n",
    "    x for x in range(1, MAX_NODES+1)\n",
    "])\n",
    "\n",
    "G.add_edges_from([\n",
    "    (x,y) for x in range(1, MAX_NODES+1)\n",
    "          for y in range(x+1, MAX_NODES+1)\n",
    "])\n",
    "\n",
    "# Rendiamo il grafo non completo\n",
    "G.remove_edges_from([\n",
    "    (1,4), (3,6), (5,3), (4,5)\n",
    "])\n"
   ]
  },
  {
   "cell_type": "code",
   "execution_count": 4,
   "metadata": {},
   "outputs": [],
   "source": [
    "# Alcune funzioni di supporto\n",
    "\n",
    "def draw_graph(graph, MST=nx.empty_graph(), root_node=None):\n",
    "    # adapted from:\n",
    "    # https://stackoverflow.com/questions/60164893/highlighting-certain-nodes-edges-in-networkx-issues-with-using-zip\n",
    "\n",
    "    #nx.draw_shell(graph, with_labels=True, font_weight='bold')\n",
    "    #nx.draw_shell(MST, with_labels=True, font_weight='bold', edge_color='red')\n",
    "    \n",
    "    # Get position using spring layout\n",
    "    #pos = nx.spring_layout(graph, seed=1234)\n",
    "    pos = nx.circular_layout(graph)\n",
    "\n",
    "    # Get MST path\n",
    "    path_edges = list(MST.edges)\n",
    "\n",
    "\n",
    "    # Draw nodes and edges not included in the MST path\n",
    "    #nx.draw_networkx_nodes(graph, pos, nodelist=set(graph.nodes)-set(MST.nodes))\n",
    "    nx.draw_networkx_nodes(graph, pos, nodelist=graph.nodes)\n",
    "    nx.draw_networkx_edges(graph, pos, edgelist=set(graph.edges)-set(path_edges), edge_color='grey', connectionstyle='arc3, rad = 0.3')\n",
    "\n",
    "    # Draw MST path\n",
    "    # highlight the root node\n",
    "    if root_node != None:\n",
    "        nx.draw_networkx_nodes(graph, pos, nodelist=[root_node], node_color='yellow')\n",
    "\n",
    "    nx.draw_networkx_edges(graph,pos,edgelist=path_edges, edge_color='r', connectionstyle='arc3, rad = 0.3')\n",
    "\n",
    "    # Draw labels\n",
    "    nx.draw_networkx_labels(graph,pos)\n",
    "\n"
   ]
  },
  {
   "cell_type": "code",
   "execution_count": 5,
   "metadata": {},
   "outputs": [],
   "source": [
    "# Funzione obiettivo\n",
    "\n",
    "def cost(MST, root_node, debug=False):\n",
    "\n",
    "    support_graph = nx.Graph()\n",
    "\n",
    "    visited = set()\n",
    "    next = [root_node]\n",
    "    \n",
    "    cost = 0\n",
    "\n",
    "    while len(next) > 0:\n",
    "        node = next.pop(0)\n",
    "        node_edges = MST.edges(node)\n",
    "        \n",
    "        if node not in visited:\n",
    "            k_children = len( [ x for x in node_edges if x not in support_graph.edges ] )\n",
    "\n",
    "            if debug:\n",
    "                print(\"node {} has {} children\".format(node, k_children))\n",
    "\n",
    "            if k_children > 1:\n",
    "                cost += k_children - 1\n",
    "\n",
    "            visited.add(node)\n",
    "            next = next + list(MST.adj[node])\n",
    "            support_graph.add_edges_from(node_edges)\n",
    "        \n",
    "    return cost\n"
   ]
  },
  {
   "cell_type": "code",
   "execution_count": 6,
   "metadata": {},
   "outputs": [
    {
     "name": "stdout",
     "output_type": "stream",
     "text": [
      "node 1 has 2 children\n",
      "node 2 has 3 children\n",
      "node 6 has 0 children\n",
      "node 3 has 0 children\n",
      "node 5 has 0 children\n",
      "node 4 has 0 children\n",
      "cost:  3\n"
     ]
    },
    {
     "data": {
      "image/png": "[encoded data removed]",
      "text/plain": [
       "<Figure size 432x288 with 1 Axes>"
      ]
     },
     "metadata": {},
     "output_type": "display_data"
    }
   ],
   "source": [
    "# TEST children nodes\n",
    "TEST = nx.Graph()\n",
    "TEST.add_edges_from([(1, 2), (2, 3), (2, 5), (1, 6), (2, 4)])\n",
    "\n",
    "TEST_ROOT = 1\n",
    "\n",
    "draw_graph(TEST, root_node=TEST_ROOT)\n",
    "\n",
    "print(\"cost: \",cost(TEST, 1,debug=True))"
   ]
  },
  {
   "cell_type": "markdown",
   "metadata": {},
   "source": [
    "## Ricerca Locale\n",
    "1) crea una soluzione ammissibile (es. con Kruskal)\n",
    "2) Migliora e imponi i vincoli con ricerca locale\n",
    "    * aggiungi un arco all'MST\n",
    "    * rimuovi un arco del ciclo che si è venuto a creare\n",
    "    * calcola la nuova funzione obiettivo\n",
    "        * pensa a fattori di penalizzazione per nodi con + figli?\n",
    "    * ripeti :)"
   ]
  },
  {
   "cell_type": "code",
   "execution_count": 7,
   "metadata": {},
   "outputs": [],
   "source": [
    "# PARAMETRI\n",
    "ROOT_NODE=1"
   ]
  },
  {
   "cell_type": "code",
   "execution_count": 8,
   "metadata": {},
   "outputs": [
    {
     "name": "stdout",
     "output_type": "stream",
     "text": [
      "next_visit =  [2, 3, 5, 6]\n",
      "next_visit =  [2, 3, 5, 6, 1, 3, 4, 5, 6]\n",
      "node = 2\n",
      "next_visit =  ['ciao', 3, 5, 6, 1, 3, 4, 5, 6]\n"
     ]
    },
    {
     "data": {
      "text/plain": [
       "[0, 2, 4, 6, 8, 10]"
      ]
     },
     "execution_count": 8,
     "metadata": {},
     "output_type": "execute_result"
    }
   ],
   "source": [
    "next_visit = list(G.adj[ROOT_NODE])\n",
    "\n",
    "print(\"next_visit = \",next_visit)\n",
    "\n",
    "for n in list(G.adj[2]):\n",
    "    next_visit.append(n)\n",
    "\n",
    "print(\"next_visit = \",next_visit)\n",
    "\n",
    "node = next_visit.pop(0) # pop()  = estrazione LIFO (STACK), \n",
    "                         # pop(0) = estrazione FIFO (CODA)\n",
    "print(\"node =\",node)\n",
    "next_visit.insert(0, \"ciao\")\n",
    "print(\"next_visit = \",next_visit)\n",
    "\n",
    "\n",
    "\n",
    "[x for x in range(0,12) if x%2 == 0]\n"
   ]
  },
  {
   "cell_type": "markdown",
   "metadata": {},
   "source": [
    "### 1. Creazione soluzione ammissibile\n",
    "\n",
    "Parto da un MST subottimale ottenuto con la visita in ampiezza a partire dalla radice.\n",
    "\n",
    "> TODO: Usare Kruskal/Prim e poi invertire gli archi entranti nel nodo radice per \"raddrizzare\" l'albero"
   ]
  },
  {
   "cell_type": "code",
   "execution_count": 9,
   "metadata": {},
   "outputs": [],
   "source": [
    "# Creazione di MST ammissibile a partire dal nodo radice specificato\n",
    "# tramite visita in ampiezza (così ho un punto di partenza volutamente poco buono)\n",
    "def build_rooted_mst(graph, root_node):\n",
    "    visited_nodes = set() # per evitare cicli\n",
    "    next_visit = []\n",
    "\n",
    "    MST = nx.Graph()\n",
    "\n",
    "    #MST.add_node(n1) # non necessario, aggiunti in automatico con gli archi\n",
    "\n",
    "    #next_visit = list(G.adj[root_node]) # inserisci i vicini del nodo di partenza\n",
    "\n",
    "    next_visit.insert(0,root_node) # assicurati di partire dal nodo radice!\n",
    "    #for n in next_visit:\n",
    "    while len(next_visit) > 0:\n",
    "        n = next_visit.pop(0)\n",
    "        # processa un nodo solo se non è già stato visitato\n",
    "        if n not in visited_nodes:\n",
    "            visited_nodes.add(n)\n",
    "            # aggiungi i suoi vicini non visitati alla lista/stack di visita\n",
    "            unvisited_neighbourhood = [x for x in list(G.adj[n]) if x not in visited_nodes]\n",
    "            #print(\"n = \",n)\n",
    "            #print(\"unvisited_neighbourhood = \",unvisited_neighbourhood)\n",
    "            #print(\"(before loop) next_visit = \",next_visit)\n",
    "            # inserimento in testa -> depth first?\n",
    "            next_visit = unvisited_neighbourhood + next_visit\n",
    "            for neighbour in unvisited_neighbourhood:\n",
    "                if neighbour not in MST.nodes:\n",
    "                    #print(\"MST edge added: \", (n,neighbour))\n",
    "                    MST.add_edge(n,neighbour)\n",
    "            #print(\"(after loop) next_visit = \",next_visit) \n",
    "        #else:\n",
    "            #print(\"n = \", n, \"(ignored)\")\n",
    "\n",
    "                \n",
    "\n",
    "    # ora facciamo lo stesso per gli altri nodi\n",
    "    #nodes = graph.nodes\n",
    "    #for n1 in nodes:\n",
    "    #    for n2 in graph.neighbors(n1):\n",
    "    #        if n2 not in visited_nodes:\n",
    "    #            visited_nodes.append(n2)\n",
    "    #            MST.add_edge(n1,n2)\n",
    "\n",
    "\n",
    "    return MST"
   ]
  },
  {
   "cell_type": "code",
   "execution_count": 10,
   "metadata": {},
   "outputs": [
    {
     "name": "stdout",
     "output_type": "stream",
     "text": [
      "0) MST:  [(1, 2), (1, 3), (1, 5), (1, 6), (2, 4)] costo: 3\n"
     ]
    },
    {
     "data": {
      "image/png": "[encoded data removed]",
      "text/plain": [
       "<Figure size 432x288 with 1 Axes>"
      ]
     },
     "metadata": {},
     "output_type": "display_data"
    }
   ],
   "source": [
    "mst = build_rooted_mst(G, ROOT_NODE)\n",
    "print(\"0) MST: \", mst.edges, \"costo:\", cost(mst, ROOT_NODE))\n",
    "draw_graph(G, mst, ROOT_NODE)\n",
    "plt.savefig(os.path.join(OUT_DIR,'iter_0'))"
   ]
  },
  {
   "cell_type": "markdown",
   "metadata": {},
   "source": [
    "### 2. Improvement"
   ]
  },
  {
   "cell_type": "markdown",
   "metadata": {},
   "source": []
  },
  {
   "cell_type": "code",
   "execution_count": 11,
   "metadata": {},
   "outputs": [
    {
     "ename": "NameError",
     "evalue": "name 'cost_after' is not defined",
     "output_type": "error",
     "traceback": [
      "\u001b[1;31m---------------------------------------------------------------------------\u001b[0m",
      "\u001b[1;31mNameError\u001b[0m                                 Traceback (most recent call last)",
      "\u001b[1;32mc:\\Users\\Davide\\Desktop\\ProgettoRO\\progetto.ipynb Cell 18'\u001b[0m in \u001b[0;36m<module>\u001b[1;34m\u001b[0m\n\u001b[0;32m     <a href='vscode-notebook-cell:/c%3A/Users/Davide/Desktop/ProgettoRO/progetto.ipynb#ch0000011?line=56'>57</a>\u001b[0m     cost_after \u001b[39m=\u001b[39m cost(mst, ROOT_NODE)\n\u001b[0;32m     <a href='vscode-notebook-cell:/c%3A/Users/Davide/Desktop/ProgettoRO/progetto.ipynb#ch0000011?line=57'>58</a>\u001b[0m     \u001b[39mprint\u001b[39m(\u001b[39m\"\u001b[39m\u001b[39mremove: \u001b[39m\u001b[39m\"\u001b[39m, ce)\n\u001b[1;32m---> <a href='vscode-notebook-cell:/c%3A/Users/Davide/Desktop/ProgettoRO/progetto.ipynb#ch0000011?line=59'>60</a>\u001b[0m \u001b[39mif\u001b[39;00m cost_after \u001b[39m>\u001b[39m cost_before:\n\u001b[0;32m     <a href='vscode-notebook-cell:/c%3A/Users/Davide/Desktop/ProgettoRO/progetto.ipynb#ch0000011?line=60'>61</a>\u001b[0m     \u001b[39m# annulla tutto e prova un altro candidato!\u001b[39;00m\n\u001b[0;32m     <a href='vscode-notebook-cell:/c%3A/Users/Davide/Desktop/ProgettoRO/progetto.ipynb#ch0000011?line=61'>62</a>\u001b[0m     mst\u001b[39m.\u001b[39madd_edges_from([ce])\n\u001b[0;32m     <a href='vscode-notebook-cell:/c%3A/Users/Davide/Desktop/ProgettoRO/progetto.ipynb#ch0000011?line=62'>63</a>\u001b[0m     \u001b[39mif\u001b[39;00m DEBUG_IMPROVEMENT:\n",
      "\u001b[1;31mNameError\u001b[0m: name 'cost_after' is not defined"
     ]
    }
   ],
   "source": [
    "# CICLO DI MIGLIORAMENTO\n",
    "\n",
    "# calcolo il complementare all'MST\n",
    "outer_G = G.copy()\n",
    "outer_G.remove_edges_from(mst.edges)\n",
    "\n",
    "candidates = list(outer_G.edges)\n",
    "k = 0\n",
    "\n",
    "if DEBUG_IMPROVEMENT:\n",
    "    print(\"NON IN MST:\", outer_G.edges)\n",
    "    print(\"MST:\", mst.edges)\n",
    "\n",
    "    plt.figure(0)\n",
    "    plt.title(\"Initial\")\n",
    "    draw_graph(G, mst, root_node=ROOT_NODE)\n",
    "    plt.savefig( os.path.join(OUT_DIR, 'iter_{}'.format(k)) )\n",
    "\n",
    "#draw_graph(outer_G, root_node=ROOT_NODE)\n",
    "\n",
    "# aggiungo un arco all'MST\n",
    "# ciò causerà la nascita di un ciclo nel grafo, perchè MST è sottinsieme massimale di archi senza cicli\n",
    "# quindi elimino un arco del ciclo che si è venuto a creare <=> la funzione obiettivo migliora\n",
    "\n",
    "\n",
    "### TEST\n",
    "## PROVA 1 ITERAZIONE\n",
    "\n",
    "new_e = candidates[4]    \n",
    "\n",
    "for new_e in candidates:\n",
    "    # prima di tutto calcolo il valore attuale di obj()\n",
    "    cost_before = cost(mst, ROOT_NODE)\n",
    "    if DEBUG_IMPROVEMENT:\n",
    "        print(\"\")\n",
    "        print(k,\") initial cost: \",cost_before)\n",
    "\n",
    "        print(\"add: \",new_e)\n",
    "    mst.add_edges_from([new_e])\n",
    "\n",
    "    # loop detection\n",
    "    loop_edges = nx.algorithms.cycles.find_cycle(mst, orientation=\"ignore\")\n",
    "\n",
    "\n",
    "    # 1: eliminazione GREEDY dell'arco in più\n",
    "    # scelgo la mossa che localmente mi da l'abbassamento minore di obj()\n",
    "    for ce in loop_edges:\n",
    "        #print(k,\"MST=\",mst.edges); \n",
    "        k+=1;\n",
    "        mst.remove_edges_from([ce])\n",
    "        \n",
    "        if DEBUG_IMPROVEMENT:\n",
    "            fig = plt.figure(k)\n",
    "            plt.title(\"add: {}, remove: {}\".format(new_e, ce))\n",
    "            draw_graph(G, mst, root_node=ROOT_NODE )\n",
    "            plt.savefig(os.path.join(OUT_DIR,'iter_{}'.format(k)))\n",
    "            print(\"remove: \", ce)\n",
    "            \n",
    "        cost_after = cost(mst, ROOT_NODE)\n",
    "\n",
    "        if cost_after > cost_before:\n",
    "            # annulla tutto e prova un altro candidato!\n",
    "            mst.add_edges_from([ce])\n",
    "            if DEBUG_IMPROVEMENT:\n",
    "                print(\"new cost: \",cost_after, \"(revert)\")\n",
    "        else:\n",
    "            # rendi la modifica permanente e passa oltre.\n",
    "            # non esploro gli altri archi candidati perchè con una mossa del genere\n",
    "            # il costo può essere ridotto solo di 1\n",
    "            if DEBUG_IMPROVEMENT:\n",
    "                print(\"new cost: \",cost_after, \"(keep)\")\n",
    "            break\n",
    "\n",
    "    # se non ho trovato miglioramenti, \n",
    "    if cost_after > cost_before:\n",
    "        print(\"No improvements, removing: \",new_e)\n",
    "        mst.remove_edges_from([new_e])\n",
    "        \n",
    "        outer_G = G.copy()\n",
    "        outer_G.remove_edges_from(mst.edges)\n",
    "\n",
    "        candidates = list(outer_G.edges)\n",
    "\n"
   ]
  },
  {
   "cell_type": "code",
   "execution_count": null,
   "metadata": {},
   "outputs": [],
   "source": [
    "# PRINT RESULT\n",
    "print(\"Costo finale: \", cost(mst, ROOT_NODE))\n",
    "print(\"MST = \",mst.edges)\n",
    "draw_graph(G, mst, ROOT_NODE)\n",
    "plt.savefig(os.path.join(OUT_DIR,'iter_final'))\n",
    "\n",
    "\n",
    "print(\"---TEST AMMISSIBILITA'---\")\n",
    "\n",
    "print(\"mst is tree: \",nx.is_tree(mst))\n",
    "\n",
    "try:\n",
    "    cycletest = nx.algorithms.cycles.find_cycle(mst, orientation=\"ignore\")\n",
    "except:\n",
    "    cycletest = None\n",
    "finally:\n",
    "    print(\"mst loops: \", cycletest)"
   ]
  }
 ],
 "metadata": {
  "interpreter": {
   "hash": "669f5abd92f1a410df15b0643b9f42360e277a412fc08ae8bc7d7911cf7e8f3d"
  },
  "kernelspec": {
   "display_name": "Python 3.10.2 64-bit",
   "language": "python",
   "name": "python3"
  },
  "language_info": {
   "codemirror_mode": {
    "name": "ipython",
    "version": 3
   },
   "file_extension": ".py",
   "mimetype": "text/x-python",
   "name": "python",
   "nbconvert_exporter": "python",
   "pygments_lexer": "ipython3",
   "version": "3.10.2"
  },
  "orig_nbformat": 4
 },
 "nbformat": 4,
 "nbformat_minor": 2
}
